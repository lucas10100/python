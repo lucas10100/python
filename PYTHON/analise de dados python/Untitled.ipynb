{
 "cells": [
  {
   "cell_type": "code",
   "execution_count": 12,
   "id": "211cac54",
   "metadata": {},
   "outputs": [
    {
     "data": {
      "text/html": [
       "<div>\n",
       "<style scoped>\n",
       "    .dataframe tbody tr th:only-of-type {\n",
       "        vertical-align: middle;\n",
       "    }\n",
       "\n",
       "    .dataframe tbody tr th {\n",
       "        vertical-align: top;\n",
       "    }\n",
       "\n",
       "    .dataframe thead th {\n",
       "        text-align: right;\n",
       "    }\n",
       "</style>\n",
       "<table border=\"1\" class=\"dataframe\">\n",
       "  <thead>\n",
       "    <tr style=\"text-align: right;\">\n",
       "      <th></th>\n",
       "      <th>ClienteID;Origem;Idade;Salário Anual (R$);Nota (1-100);Profissão;Experiência Trabalho;Tamanho Família;</th>\n",
       "    </tr>\n",
       "  </thead>\n",
       "  <tbody>\n",
       "    <tr>\n",
       "      <th>0</th>\n",
       "      <td>1;Normal;19;15000;39;Saúde;1;4;</td>\n",
       "    </tr>\n",
       "    <tr>\n",
       "      <th>1</th>\n",
       "      <td>2;Normal;21;35000;81;Engenheiro;3;3;</td>\n",
       "    </tr>\n",
       "    <tr>\n",
       "      <th>2</th>\n",
       "      <td>3;Promoção;20;86000;2;Engenheiro;1;1;</td>\n",
       "    </tr>\n",
       "    <tr>\n",
       "      <th>3</th>\n",
       "      <td>4;Promoção;23;59000;73;Advogado;0;2;.</td>\n",
       "    </tr>\n",
       "    <tr>\n",
       "      <th>4</th>\n",
       "      <td>5;Promoção;31;38000;48;Entretenimento;2;6;</td>\n",
       "    </tr>\n",
       "    <tr>\n",
       "      <th>...</th>\n",
       "      <td>...</td>\n",
       "    </tr>\n",
       "    <tr>\n",
       "      <th>1995</th>\n",
       "      <td>1996;Promoção;71;184387;48;Artista;8;7;</td>\n",
       "    </tr>\n",
       "    <tr>\n",
       "      <th>1996</th>\n",
       "      <td>1997;Promoção;91;73158;28;Doutor;7;7;</td>\n",
       "    </tr>\n",
       "    <tr>\n",
       "      <th>1997</th>\n",
       "      <td>1998;Normal;87;90961;14;Saúde;9;2;</td>\n",
       "    </tr>\n",
       "    <tr>\n",
       "      <th>1998</th>\n",
       "      <td>1999;Normal;77;182109;4;Executivo;7;2;</td>\n",
       "    </tr>\n",
       "    <tr>\n",
       "      <th>1999</th>\n",
       "      <td>2000;Normal;90;110610;64;Entretenimento;5;2;</td>\n",
       "    </tr>\n",
       "  </tbody>\n",
       "</table>\n",
       "<p>2000 rows × 1 columns</p>\n",
       "</div>"
      ],
      "text/plain": [
       "     ClienteID;Origem;Idade;Salário Anual (R$);Nota (1-100);Profissão;Experiência Trabalho;Tamanho Família;\n",
       "0                       1;Normal;19;15000;39;Saúde;1;4;                                                    \n",
       "1                  2;Normal;21;35000;81;Engenheiro;3;3;                                                    \n",
       "2                 3;Promoção;20;86000;2;Engenheiro;1;1;                                                    \n",
       "3                 4;Promoção;23;59000;73;Advogado;0;2;.                                                    \n",
       "4            5;Promoção;31;38000;48;Entretenimento;2;6;                                                    \n",
       "...                                                 ...                                                    \n",
       "1995            1996;Promoção;71;184387;48;Artista;8;7;                                                    \n",
       "1996              1997;Promoção;91;73158;28;Doutor;7;7;                                                    \n",
       "1997                 1998;Normal;87;90961;14;Saúde;9;2;                                                    \n",
       "1998             1999;Normal;77;182109;4;Executivo;7;2;                                                    \n",
       "1999       2000;Normal;90;110610;64;Entretenimento;5;2;                                                    \n",
       "\n",
       "[2000 rows x 1 columns]"
      ]
     },
     "metadata": {},
     "output_type": "display_data"
    }
   ],
   "source": [
    "import pandas \n",
    "\n",
    "tabela = pandas.read_csv('clientes.csv',encoding='latin')\n",
    "display(tabela)"
   ]
  },
  {
   "cell_type": "code",
   "execution_count": null,
   "id": "5c9df9e3",
   "metadata": {},
   "outputs": [],
   "source": []
  }
 ],
 "metadata": {
  "kernelspec": {
   "display_name": "Python 3 (ipykernel)",
   "language": "python",
   "name": "python3"
  },
  "language_info": {
   "codemirror_mode": {
    "name": "ipython",
    "version": 3
   },
   "file_extension": ".py",
   "mimetype": "text/x-python",
   "name": "python",
   "nbconvert_exporter": "python",
   "pygments_lexer": "ipython3",
   "version": "3.9.13"
  }
 },
 "nbformat": 4,
 "nbformat_minor": 5
}
